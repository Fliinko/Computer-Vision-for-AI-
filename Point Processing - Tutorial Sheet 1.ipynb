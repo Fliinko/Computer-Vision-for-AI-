{
 "cells": [
  {
   "cell_type": "code",
   "execution_count": 4,
   "metadata": {},
   "outputs": [],
   "source": [
    "import cv2\n",
    "import numpy as np\n",
    "from matplotlib import pyplot as plt"
   ]
  },
  {
   "cell_type": "markdown",
   "metadata": {},
   "source": [
    "Loading Image from Drive and Outputting"
   ]
  },
  {
   "cell_type": "code",
   "execution_count": 5,
   "metadata": {},
   "outputs": [],
   "source": [
    "img = cv2.imread('dababy.jpg')\n",
    "height, width, _ = img.shape\n",
    "gray = cv2.cvtColor(img, cv2.COLOR_BGR2GRAY)"
   ]
  },
  {
   "cell_type": "markdown",
   "metadata": {},
   "source": []
  },
  {
   "cell_type": "code",
   "execution_count": 30,
   "metadata": {},
   "outputs": [],
   "source": [
    "def Partition(input, wid = 2, hei = 2):\n",
    "    \n",
    "    height, width = input.shape\n",
    "    location = 0\n",
    "    images = {}\n",
    "    \n",
    "    for cnt_h in range(hei):\n",
    "        \n",
    "        for cnt_w in range(wid):\n",
    "            \n",
    "            x = width//wid * cnt_w\n",
    "            y = height//hei * cnt_h\n",
    "            h = height//hei\n",
    "            w = width//wid\n",
    "            \n",
    "            img2 = input[y:y+h, x:x+w]\n",
    "            \n",
    "            NAME = \"Image\" + str(location)\n",
    "            cv2.imwrite(NAME + \".png\", img2, [cv2.IMWRITE_PNG_COMPRESSION, 0])\n",
    "            images[\"Quadrant\" + str(location)] = {'img': img2, 'dark' : False}\n",
    "            location += 1\n",
    "        \n",
    "    return images\n",
    "\n",
    "images = Partition(gray)"
   ]
  },
  {
   "cell_type": "markdown",
   "metadata": {},
   "source": []
  },
  {
   "cell_type": "code",
   "execution_count": 31,
   "metadata": {},
   "outputs": [],
   "source": [
    "def Thresh(img, alpha = 0.5):\n",
    "    \n",
    "    height, width = img.shape\n",
    "    thresh = np.array([255*alpha])\n",
    "    dark = np.count_nonzero(img < thresh)\n",
    "    \n",
    "    return dark/(height*width) > alpha\n",
    "\n",
    "for location in images:\n",
    "    \n",
    "    images[location]['dark'] = Thresh(images[location]['img'])"
   ]
  },
  {
   "cell_type": "markdown",
   "metadata": {},
   "source": []
  },
  {
   "cell_type": "code",
   "execution_count": 32,
   "metadata": {},
   "outputs": [
    {
     "data": {
      "text/plain": [
       "['Graphs/Quadrant0histogram.png',\n",
       " 'Graphs/Quadrant1histogram.png',\n",
       " 'Graphs/Quadrant2histogram.png',\n",
       " 'Graphs/Quadrant3histogram.png']"
      ]
     },
     "execution_count": 32,
     "metadata": {},
     "output_type": "execute_result"
    },
    {
     "data": {
      "text/plain": [
       "<Figure size 432x288 with 0 Axes>"
      ]
     },
     "metadata": {},
     "output_type": "display_data"
    }
   ],
   "source": [
    "def Histograms(images):\n",
    "    \n",
    "    imgs = []\n",
    "    \n",
    "    for location in images:\n",
    "        \n",
    "        histogram = cv2.calcHist([images[location]['img']], [0], None, [255], [0, 255])\n",
    "        \n",
    "        plt.ylabel('Pixels')\n",
    "        plt.xlabel('Darkness')\n",
    "        plt.title('Histogram of Darkness in Image' + location)\n",
    "        plt.plot(histogram)\n",
    "        plt.xlim([0,256])\n",
    "        \n",
    "        plt.savefig('Graphs/' + location + 'histogram.png')\n",
    "        imgs.append('Graphs/' + location + 'histogram.png')\n",
    "        \n",
    "        plt.clf()\n",
    "        \n",
    "    return imgs\n",
    "\n",
    "Histograms(images)"
   ]
  },
  {
   "cell_type": "markdown",
   "metadata": {},
   "source": []
  },
  {
   "cell_type": "code",
   "execution_count": 33,
   "metadata": {},
   "outputs": [],
   "source": [
    "def PowerTransform(image, gamma = 2):\n",
    "    \n",
    "    copy = image.copy()\n",
    "    copy = np.array(255*(copy/255)**gamma, dtype = 'uint8')\n",
    "    \n",
    "    return copy"
   ]
  },
  {
   "cell_type": "code",
   "execution_count": 34,
   "metadata": {},
   "outputs": [
    {
     "data": {
      "text/plain": [
       "['Graphs/Quadrant0histogram.png',\n",
       " 'Graphs/Quadrant1histogram.png',\n",
       " 'Graphs/Quadrant2histogram.png',\n",
       " 'Graphs/Quadrant3histogram.png']"
      ]
     },
     "execution_count": 34,
     "metadata": {},
     "output_type": "execute_result"
    },
    {
     "data": {
      "text/plain": [
       "<Figure size 432x288 with 0 Axes>"
      ]
     },
     "metadata": {},
     "output_type": "display_data"
    }
   ],
   "source": [
    "transforms = {}\n",
    "count = 0\n",
    "\n",
    "for location in images:\n",
    "    \n",
    "    transform = PowerTransform(images[location]['img'])\n",
    "    NAME = \"Quadrant\" + str(count)\n",
    "    \n",
    "    cv2.imwrite(NAME + \".png\", transform, [cv2.IMWRITE_PNG_COMPRESSION, 0])\n",
    "    transforms[location] = {'img': transform,\n",
    "                            'dark': Thresh(transform)}\n",
    "    \n",
    "    count += 1\n",
    "    \n",
    "Histograms(transforms)"
   ]
  },
  {
   "cell_type": "markdown",
   "metadata": {},
   "source": []
  },
  {
   "cell_type": "code",
   "execution_count": 35,
   "metadata": {},
   "outputs": [],
   "source": [
    "def Slice(image, bit):\n",
    "    \n",
    "    plane = np.full((image.shape[0], image.shape[1]), 2 ** bit, np.uint8)\n",
    "    res = cv2.bitwise_and(plane, image)\n",
    "    x = res*255\n",
    "    \n",
    "    return x"
   ]
  },
  {
   "cell_type": "code",
   "execution_count": 36,
   "metadata": {},
   "outputs": [
    {
     "data": {
      "text/plain": [
       "['Graphs/histogram.png']"
      ]
     },
     "execution_count": 36,
     "metadata": {},
     "output_type": "execute_result"
    },
    {
     "data": {
      "text/plain": [
       "<Figure size 432x288 with 0 Axes>"
      ]
     },
     "metadata": {},
     "output_type": "display_data"
    }
   ],
   "source": [
    "bitsliced = {}\n",
    "slices = [2,7]\n",
    "\n",
    "for slice in slices:\n",
    "    \n",
    "    counter = 0\n",
    "    \n",
    "    for location in images:\n",
    "        \n",
    "        sliced = Slice(images[location]['img'], slice)\n",
    "        NAME = \"Quadrant \" + str(slice) + str(count)\n",
    "        \n",
    "        cv2.imwrite(NAME + \".png\", sliced, [cv2.IMWRITE_PNG_COMPRESSION, 0])\n",
    "        bitsliced[NAME[16:]] = {'img' : sliced,\n",
    "                                   'dark': Thresh(sliced)}\n",
    "        \n",
    "        count += 1\n",
    "        \n",
    "Histograms(bitsliced)"
   ]
  },
  {
   "cell_type": "markdown",
   "metadata": {},
   "source": [
    "# Video Application"
   ]
  },
  {
   "cell_type": "code",
   "execution_count": 2,
   "metadata": {},
   "outputs": [
    {
     "ename": "NameError",
     "evalue": "name 'cv2' is not defined",
     "output_type": "error",
     "traceback": [
      "\u001b[1;31m---------------------------------------------------------------------------\u001b[0m",
      "\u001b[1;31mNameError\u001b[0m                                 Traceback (most recent call last)",
      "\u001b[1;32m<ipython-input-2-5a976911f070>\u001b[0m in \u001b[0;36m<module>\u001b[1;34m\u001b[0m\n\u001b[1;32m----> 1\u001b[1;33m \u001b[0mvideo\u001b[0m \u001b[1;33m=\u001b[0m \u001b[0mcv2\u001b[0m\u001b[1;33m.\u001b[0m\u001b[0mVideoCapture\u001b[0m\u001b[1;33m(\u001b[0m\u001b[1;34m'monkey.mp4'\u001b[0m\u001b[1;33m)\u001b[0m\u001b[1;33m\u001b[0m\u001b[1;33m\u001b[0m\u001b[0m\n\u001b[0m\u001b[0;32m      2\u001b[0m \u001b[0mfps\u001b[0m \u001b[1;33m=\u001b[0m \u001b[0mvideo\u001b[0m\u001b[1;33m.\u001b[0m\u001b[0mget\u001b[0m\u001b[1;33m(\u001b[0m\u001b[0mcv2\u001b[0m\u001b[1;33m.\u001b[0m\u001b[0mCAP_PROP_FPS\u001b[0m\u001b[1;33m)\u001b[0m\u001b[1;33m\u001b[0m\u001b[1;33m\u001b[0m\u001b[0m\n\u001b[0;32m      3\u001b[0m \u001b[0mprint\u001b[0m\u001b[1;33m(\u001b[0m\u001b[0mfps\u001b[0m\u001b[1;33m)\u001b[0m\u001b[1;33m\u001b[0m\u001b[1;33m\u001b[0m\u001b[0m\n\u001b[0;32m      4\u001b[0m \u001b[1;33m\u001b[0m\u001b[0m\n\u001b[0;32m      5\u001b[0m \u001b[0mret\u001b[0m\u001b[1;33m,\u001b[0m\u001b[0mframe\u001b[0m \u001b[1;33m=\u001b[0m \u001b[0mvideo\u001b[0m\u001b[1;33m.\u001b[0m\u001b[0mread\u001b[0m\u001b[1;33m(\u001b[0m\u001b[1;33m)\u001b[0m\u001b[1;33m\u001b[0m\u001b[1;33m\u001b[0m\u001b[0m\n",
      "\u001b[1;31mNameError\u001b[0m: name 'cv2' is not defined"
     ]
    }
   ],
   "source": [
    "video = cv2.VideoCapture('monkey.mp4')\n",
    "fps = video.get(cv2.CAP_PROP_FPS)\n",
    "print(fps)\n",
    "\n",
    "ret,frame = video.read()\n",
    "count = 0"
   ]
  },
  {
   "cell_type": "code",
   "execution_count": 3,
   "metadata": {},
   "outputs": [
    {
     "ename": "NameError",
     "evalue": "name 'ret' is not defined",
     "output_type": "error",
     "traceback": [
      "\u001b[1;31m---------------------------------------------------------------------------\u001b[0m",
      "\u001b[1;31mNameError\u001b[0m                                 Traceback (most recent call last)",
      "\u001b[1;32m<ipython-input-3-49270023b5c0>\u001b[0m in \u001b[0;36m<module>\u001b[1;34m\u001b[0m\n\u001b[1;32m----> 1\u001b[1;33m \u001b[1;32mwhile\u001b[0m \u001b[0mret\u001b[0m\u001b[1;33m:\u001b[0m\u001b[1;33m\u001b[0m\u001b[1;33m\u001b[0m\u001b[0m\n\u001b[0m\u001b[0;32m      2\u001b[0m \u001b[1;33m\u001b[0m\u001b[0m\n\u001b[0;32m      3\u001b[0m     \u001b[1;32mif\u001b[0m \u001b[0mcount\u001b[0m \u001b[1;33m%\u001b[0m \u001b[1;36m8\u001b[0m \u001b[1;33m==\u001b[0m \u001b[1;36m0\u001b[0m\u001b[1;33m:\u001b[0m\u001b[1;33m\u001b[0m\u001b[1;33m\u001b[0m\u001b[0m\n\u001b[0;32m      4\u001b[0m         \u001b[0mframe\u001b[0m \u001b[1;33m=\u001b[0m \u001b[0mcv2\u001b[0m\u001b[1;33m.\u001b[0m\u001b[0mresize\u001b[0m\u001b[1;33m(\u001b[0m\u001b[0mframe\u001b[0m\u001b[1;33m,\u001b[0m \u001b[1;33m(\u001b[0m\u001b[1;36m400\u001b[0m\u001b[1;33m,\u001b[0m \u001b[1;36m400\u001b[0m\u001b[1;33m)\u001b[0m\u001b[1;33m)\u001b[0m\u001b[1;33m\u001b[0m\u001b[1;33m\u001b[0m\u001b[0m\n\u001b[0;32m      5\u001b[0m         \u001b[0mgrayvid\u001b[0m \u001b[1;33m=\u001b[0m \u001b[0mcv2\u001b[0m\u001b[1;33m.\u001b[0m\u001b[0mcvtColor\u001b[0m\u001b[1;33m(\u001b[0m\u001b[0mframe\u001b[0m\u001b[1;33m,\u001b[0m \u001b[0mcv2\u001b[0m\u001b[1;33m.\u001b[0m\u001b[0mCOLOR_BGR2GRAY\u001b[0m\u001b[1;33m)\u001b[0m\u001b[1;33m\u001b[0m\u001b[1;33m\u001b[0m\u001b[0m\n",
      "\u001b[1;31mNameError\u001b[0m: name 'ret' is not defined"
     ]
    }
   ],
   "source": [
    "while ret:\n",
    "    \n",
    "    if count % 8 == 0:\n",
    "        frame = cv2.resize(frame, (400, 400))\n",
    "        grayvid = cv2.cvtColor(frame, cv2.COLOR_BGR2GRAY)\n",
    "        partitions = Partition(grayvid, wid=2, hei=2)\n",
    "        \n",
    "        for location in partitions:\n",
    "            \n",
    "            partitions[location]['dark'] = Thresh(partitions[location]['img'], alpha = 0.25)\n",
    "            \n",
    "            if partitions[location]['dark']:\n",
    "                partitions[location]['dark'] = PowerTransform(partitions[location]['img'], gamma = 0.5)\n",
    "                \n",
    "            histogramsloc = Histograms(partitions)\n",
    "            histograms = []\n",
    "            \n",
    "            for hist in histogramsloc:\n",
    "                \n",
    "                histograms.append(cv2.imread(hist))\n",
    "                \n",
    "            HistoTop = np.concatenate((histograms[0], histograms[1]), axis = 1)\n",
    "            HistoBottom = np.concatenate((histograms[2], histograms[3]), axis = 1)\n",
    "            Histogram = np.concatenate((HistoTop, HistoBottom), axis = 0)\n",
    "            cv2.imshow(\"Histograms\", Histogram)\n",
    "                \n",
    "            FrameTop = np.concatenate((partitions['Quadrant0']['img'], partitions['Quadrant1']['img']), axis = 1)\n",
    "            FrameBottom = np.concatenate((partitions['Quadrant2']['img'], partitions['Quadrant3']['img']), axis = 1)\n",
    "            Frame = np.concatenate((FrameTop, FrameBottom), axis = 0)\n",
    "            cv2.imshow(\"Video\", Frame)\n",
    "                \n",
    "            count = 0\n",
    "                \n",
    "        cv2.waitKey(int(1/fps*1000))\n",
    "        count += 1\n",
    "        ret, frame = video.read()\n",
    "        \n",
    "    video.release()\n",
    "    cv2.destroyAllWindows()"
   ]
  },
  {
   "cell_type": "code",
   "execution_count": null,
   "metadata": {},
   "outputs": [],
   "source": []
  }
 ],
 "metadata": {
  "kernelspec": {
   "display_name": "Python 3",
   "language": "python",
   "name": "python3"
  },
  "language_info": {
   "codemirror_mode": {
    "name": "ipython",
    "version": 3
   },
   "file_extension": ".py",
   "mimetype": "text/x-python",
   "name": "python",
   "nbconvert_exporter": "python",
   "pygments_lexer": "ipython3",
   "version": "3.8.3"
  }
 },
 "nbformat": 4,
 "nbformat_minor": 4
}
