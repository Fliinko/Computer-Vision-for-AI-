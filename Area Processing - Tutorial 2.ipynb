{
 "cells": [
  {
   "cell_type": "code",
   "execution_count": 1,
   "metadata": {},
   "outputs": [],
   "source": [
    "import cv2\n",
    "import numpy as np\n",
    "from matplotlib import pyplot as plt\n",
    "import os"
   ]
  },
  {
   "cell_type": "code",
   "execution_count": 2,
   "metadata": {},
   "outputs": [],
   "source": [
    "def Histograms(image, title):\n",
    "    \n",
    "    hist = cv2.calcHist(image, [0], None, [255], [0, 255])\n",
    "    plt.ylabel('Pixels')\n",
    "    plt.xlabel('Darkness')\n",
    "    plt.title(title)\n",
    "    plt.plot(hist)\n",
    "    plt.xlim([0,256])\n",
    "    plt.savefig(title + 'histogram.png')\n",
    "    plt.clf()"
   ]
  },
  {
   "cell_type": "code",
   "execution_count": 5,
   "metadata": {},
   "outputs": [],
   "source": [
    "images = {}\n",
    "for x in os.listdir(\"Images\"):\n",
    "    images[x] = cv2.imread(\"Images/\" + x)"
   ]
  },
  {
   "cell_type": "code",
   "execution_count": 15,
   "metadata": {},
   "outputs": [],
   "source": [
    "class Window:\n",
    "    \n",
    "    def __init__(self, image, n, p):\n",
    "        \n",
    "        self.xlimit = image.shape[1]+n\n",
    "        self.ylimit = image.shape[0]+n\n",
    "        self.topleft = (0,0)\n",
    "        self.bottomright = (n,n)\n",
    "        self.prev = n\n",
    "        self.height = n\n",
    "        self.pace = (p, p)\n",
    "        \n",
    "        try:\n",
    "            self.channels = image.shape[2]\n",
    "        except:\n",
    "            self.channels = 1\n",
    "            \n",
    "    def Position(self):\n",
    "        \n",
    "        return self.topleft, self.bottomright\n",
    "    \n",
    "    def NextPosition(self):\n",
    "        \n",
    "        #New Line Movement\n",
    "        if(self.bottomright + self.pace)[0] >= (self.xlimit - self.height):\n",
    "            return (0, self.topleft[1] + self.pace[1]), (self.height, self.bottomright[1] + self.pace[1])\n",
    "        \n",
    "        #Moving one pixel to the Right\n",
    "        else:\n",
    "            return (self.topleft[0] + self.pace[0], self.topleft[1]), (self.bottomright[0] + self.pace[0], self.bottomright[1])\n",
    "        \n",
    "    def NextMove(self):\n",
    "        \n",
    "        #Move Position of Window\n",
    "        self.topleft, self.bottomright = self.NextPosition()\n",
    "        return self.topleft, self.bottomright\n",
    "    \n",
    "    def Bounds(self, templeft = None, tempright = None):\n",
    "        \n",
    "        if templeft is None:\n",
    "            templeft = self.topleft\n",
    "        if tempright is None:\n",
    "            tempright = self.bottomright \n",
    "            \n",
    "        return tempright[0] <= self.xlimit and tempright[1] <= self.ylimit and templeft[0] >= 0 and templeft[1] >= 0"
   ]
  },
  {
   "cell_type": "code",
   "execution_count": 19,
   "metadata": {},
   "outputs": [],
   "source": [
    "#Sliding Window Operations\n",
    "show = False\n",
    "\n",
    "window = Window(images[\"dababy.jpg\"], 100, 50)\n",
    "topleft, bottomright = window.Position()\n",
    "\n",
    "image = cv2.rectangle(images[\"dababy.jpg\"].copy(), topleft, bottomright, (0, 0, 255))\n",
    "cv2.imwrite(\"Output/dababy.png\", image, [cv2.IMWRITE_PNG_COMPRESSION, 0])\n",
    "\n",
    "tempright, templeft = window.NextPosition()\n",
    "\n",
    "while window.Bounds(bottomright):\n",
    "    image = cv2.rectangle(images[\"dababy.jpg\"].copy(), topleft, bottomright, (0, 0, 255))\n",
    "    if show:\n",
    "        cv2.imshow(\"Window\", image)\n",
    "        cv2.waitKey(int(1/35*1000))\n",
    "        \n",
    "    topleft, bottomright = window.NextMove()\n",
    "    tempright = window.NextPosition()\n",
    "    \n",
    "cv2.destroyAllWindows()"
   ]
  },
  {
   "cell_type": "code",
   "execution_count": null,
   "metadata": {},
   "outputs": [],
   "source": [
    "class Kernel:\n",
    "    \n",
    "    def __init__(self, kernel, weight):\n",
    "        \n",
    "        self.kernel = kernel\n",
    "        self.weight = weight "
   ]
  }
 ],
 "metadata": {
  "kernelspec": {
   "display_name": "Python 3",
   "language": "python",
   "name": "python3"
  },
  "language_info": {
   "codemirror_mode": {
    "name": "ipython",
    "version": 3
   },
   "file_extension": ".py",
   "mimetype": "text/x-python",
   "name": "python",
   "nbconvert_exporter": "python",
   "pygments_lexer": "ipython3",
   "version": "3.8.3"
  }
 },
 "nbformat": 4,
 "nbformat_minor": 4
}
