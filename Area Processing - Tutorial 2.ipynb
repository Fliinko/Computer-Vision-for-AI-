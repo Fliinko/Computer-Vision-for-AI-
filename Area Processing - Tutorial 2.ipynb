{
 "cells": [
  {
   "cell_type": "code",
   "execution_count": 15,
   "metadata": {},
   "outputs": [],
   "source": [
    "import cv2 #Image Processing\n",
    "import numpy as np #Stores Images as Arrays\n",
    "from matplotlib import pyplot as plt #Histograms\n",
    "import os #File Parsing"
   ]
  },
  {
   "cell_type": "markdown",
   "metadata": {},
   "source": [
    "Loading Images from the 'Images/' folder into a list"
   ]
  },
  {
   "cell_type": "code",
   "execution_count": 17,
   "metadata": {},
   "outputs": [],
   "source": [
    "images = {}\n",
    "for x in os.listdir(\"Images\"):\n",
    "    images[x] = cv2.imread(\"Images/\" + x)"
   ]
  },
  {
   "cell_type": "markdown",
   "metadata": {},
   "source": [
    "Generating a class for the Sliding Window which holds the requirement to be an N x N square with the way the 'topleft' and 'bottomright' variables are set. Moreover, the xlimit and ylimit variables describe the x and y boundaries of the image respectively.\n",
    "\n",
    "The height variable is rather self explanatory. Although, the pace and prev variables consist of the stride or step of the sliding window, and the previous y position of the window respectively. The previous y value is stored in order to check whether the sliding window moved."
   ]
  },
  {
   "cell_type": "code",
   "execution_count": 20,
   "metadata": {},
   "outputs": [],
   "source": [
    "class Window:\n",
    "    \n",
    "    def __init__(self, image, n, p):\n",
    "        \n",
    "        self.xlimit = image.shape[1]+n\n",
    "        self.ylimit = image.shape[0]+n\n",
    "        self.topleft = (0,0)\n",
    "        self.bottomright = (n,n)\n",
    "        self.prev = n\n",
    "        self.height = n\n",
    "        self.pace = (p, p)\n",
    "        \n",
    "        try:\n",
    "            self.channels = image.shape[2]\n",
    "        except:\n",
    "            self.channels = 1\n",
    "            \n",
    "    #------------------------------\n",
    "    #Gets the current Position of the Window\n",
    "            \n",
    "    def Position(self):\n",
    "        \n",
    "        return self.topleft, self.bottomright\n",
    "    \n",
    "    #------------------------------\n",
    "    #Returns the next values regarding the next position of the window, where the window can either \n",
    "    #drop to a new line or simply move on pixel to the right\n",
    "    \n",
    "    def NextPosition(self):\n",
    "        \n",
    "        #New Line Movement\n",
    "        if(self.bottomright + self.pace)[0] >= (self.xlimit - self.height):\n",
    "            return (0, self.topleft[1] + self.pace[1]), (self.height, self.bottomright[1] + self.pace[1])\n",
    "        \n",
    "        #Moving one pixel to the Right\n",
    "        else:\n",
    "            return (self.topleft[0] + self.pace[0], self.topleft[1]), (self.bottomright[0] + self.pace[0], self.bottomright[1])\n",
    "        \n",
    "    #------------------------------\n",
    "    #Operates on the NextPosition return to return the new value after movement\n",
    "        \n",
    "    def NextMove(self):\n",
    "        \n",
    "        #Move Position of Window\n",
    "        self.topleft, self.bottomright = self.NextPosition()\n",
    "        return self.topleft, self.bottomright\n",
    "    \n",
    "    #------------------------------\n",
    "    #Checks whether the current coordinates of the sliding window are in bounds of the image or not\n",
    "    \n",
    "    def InBounds(self, templeft = None, tempright = None):\n",
    "        \n",
    "        if templeft is None:\n",
    "            templeft = self.topleft\n",
    "        if tempright is None:\n",
    "            tempright = self.bottomright \n",
    "            \n",
    "        return tempright[0] <= self.xlimit and tempright[1] <= self.ylimit and templeft[0] >= 0 and templeft[1] >= 0\n",
    "    \n",
    "    #------------------------------\n",
    "    #Checking if the y coordinate of the bottom right corner has changed or not\n",
    "    \n",
    "    def newY(self):\n",
    "        \n",
    "        if self.prev == self.bottomright[1]:\n",
    "            return False\n",
    "        \n",
    "        else:\n",
    "            \n",
    "            self.prev = self.bottomright[1]\n",
    "            return True\n",
    "        \n",
    "    #------------------------------\n",
    "    #\n",
    "        \n",
    "    def getImgBounds(self, image):\n",
    "        \n",
    "        img = []\n",
    "        \n",
    "        for i in range(self.topleft[1], self.bottomright[1]):\n",
    "            \n",
    "            if i >= image.shape[0]:\n",
    "                continue\n",
    "                \n",
    "            img.append(image[i][self.topleft[0]: self.bottomright[0]])\n",
    "            \n",
    "        if self.channels == 1:\n",
    "            \n",
    "            return np.resize(np.array(img), (self.height, self.height)) #self.height twice since square\n",
    "        \n",
    "        else:\n",
    "            \n",
    "            return np.resize(np.array(img), (self.height, self.height, self.channels))"
   ]
  },
  {
   "cell_type": "code",
   "execution_count": 30,
   "metadata": {},
   "outputs": [],
   "source": [
    "#Sliding Window Operations\n",
    "show = True #True signifies that the sliding window is shown through imshow\n",
    "\n",
    "window = Window(images[\"dababy.jpg\"], 50, 20) #Where 50 is the size of the window and 20 is the pace\n",
    "topleft, bottomright = window.Position()\n",
    "\n",
    "image = cv2.rectangle(images[\"dababy.jpg\"].copy(), topleft, bottomright, (0, 0, 255)) #(0, 0 ,255) being the BGR values\n",
    "cv2.imwrite(\"Output/dababy.png\", image, [cv2.IMWRITE_PNG_COMPRESSION, 0]) #Saving the rectangle into a PNG file\n",
    "\n",
    "tempright, templeft = window.NextPosition()\n",
    "\n",
    "while window.InBounds(bottomright): #Iterates while the window is in bounds of the image\n",
    "    #Every iteration the window moves a position as shown in * using the functions in Window\n",
    "    image = cv2.rectangle(images[\"dababy.jpg\"].copy(), topleft, bottomright, (0, 0, 255))\n",
    "    if show:\n",
    "        cv2.imshow(\"Window\", image)\n",
    "        cv2.waitKey(int(1/35*1000))\n",
    "     \n",
    "    topleft, bottomright = window.NextMove() #*\n",
    "    tempright = window.NextPosition() #*\n",
    "    \n",
    "cv2.destroyAllWindows()"
   ]
  },
  {
   "cell_type": "markdown",
   "metadata": {},
   "source": [
    "<img src=\"Output/dababy.png\">"
   ]
  },
  {
   "cell_type": "code",
   "execution_count": 40,
   "metadata": {},
   "outputs": [],
   "source": [
    "class Kernel:\n",
    "    \n",
    "    def __init__(self, kernel, weight):\n",
    "        \n",
    "        self.kernel = kernel\n",
    "        self.weight = weight \n",
    "        \n",
    "    def Filter(self, roi, axis = 0, channels = 1):\n",
    "        \n",
    "        output = []\n",
    "        \n",
    "        if axis == 2:\n",
    "            \n",
    "            #Loop over each channel\n",
    "            for i in range(channels):\n",
    "                \n",
    "                #Multiplying with the RoI pixels with the kernel\n",
    "                if channels == 1:\n",
    "                    _filter = self.kernel * roi\n",
    "                \n",
    "                else:\n",
    "                    _filter = self.kernel * roi[:, :, i]\n",
    "                \n",
    "                #Summing the values\n",
    "                filsum = _filter.sum()\n",
    "                \n",
    "                if channels == 1:\n",
    "                    _filter = self.kernel.T * roi\n",
    "                \n",
    "                else:\n",
    "                    \n",
    "                    _filter = self.kernel.T * roi[:, :, i]\n",
    "                    \n",
    "                filsum2 = _filter.sum()\n",
    "                \n",
    "                #Appending to a list 'Output'\n",
    "                output.append((((filsum**2) + (filsum2 **2)) ** (1/2)) * self.weight)\n",
    "                \n",
    "            return np.array(output)\n",
    "        \n",
    "        else:\n",
    "            \n",
    "            if axis == 0:\n",
    "                kernel = self.kernel \n",
    "            else:\n",
    "                self.kernel.T\n",
    "             \n",
    "            #Loop over each channel\n",
    "            for i in range(channels):\n",
    "                \n",
    "                #Multiplying with the RoI pixels with the kernel\n",
    "                if channels == 1:\n",
    "                    _filter = kernel * roi\n",
    "                \n",
    "                else:\n",
    "                    _filter = kernel * roi[:, :, i]\n",
    "                \n",
    "                #Summing and Appending the Values \n",
    "                output.append(_filter.sum() * self.weight)\n",
    "                \n",
    "            return np.array(output)\n",
    "        \n",
    "        \n",
    "    #Filters the image like an RoI by sliding a window\n",
    "        \n",
    "    def FilterImage(self, image, pace = 1, window = None, axis = 0):\n",
    "        \n",
    "        img = [] #Output\n",
    "        line = [] #Line of Pixels\n",
    "        \n",
    "        #--------------------------\n",
    "        #Validating Window\n",
    "        if window is None:\n",
    "            \n",
    "            move = Window(image, self.kernel.shape[0], pace) #Generating a Window Object\n",
    "            \n",
    "        else:\n",
    "            \n",
    "            image = window.getImgBounds(image)\n",
    "            move = Window(image, self.kernel.shape[0], pace)\n",
    "            \n",
    "        topleft, _ = move.NextPosition()\n",
    "        \n",
    "        #-------------------------\n",
    "        #Operations when Filtering \n",
    "        while move.InBounds(topleft):\n",
    "            \n",
    "            roi = move.getImgBounds(image)\n",
    "            \n",
    "            if move.newY():\n",
    "                img.append(line)\n",
    "                line = []\n",
    "                \n",
    "            line.append(self.Filter(roi, axis, move.channels))\n",
    "            \n",
    "            #--------------------\n",
    "            #Preparing the Window for the next iteration\n",
    "            move.NextMove()\n",
    "            topleft, _ = move.NextPosition() \n",
    "            \n",
    "        return np.array(img) #Returning the Image as an array of Pixels \n",
    "        \n",
    "   "
   ]
  },
  {
   "cell_type": "markdown",
   "metadata": {},
   "source": [
    "The Kernels required are defined as below"
   ]
  },
  {
   "cell_type": "code",
   "execution_count": 32,
   "metadata": {},
   "outputs": [],
   "source": [
    "class Sobel: #Hard Coded numpy array\n",
    "    \n",
    "    def __init__(self, weight):\n",
    "        \n",
    "        self.kernel = Kernel(np.array([[-1 , 0, 1],\n",
    "                                       [-2, 0 , 2],\n",
    "                                       [-1, 0 , 1]]), weight)\n",
    "        \n",
    "    def FilterImage(self, image, pace = 1, window = None, axis = 2):\n",
    "        return self.kernel.FilterImage(image, pace, window, axis)\n",
    "    \n",
    "class Gaussian: #Generating a Kernel given a size\n",
    "    \n",
    "    def __init__(self, size, weight):\n",
    "        \n",
    "        gauss = size // 2\n",
    "        \n",
    "        x = np.arange(0, size, 1, float)\n",
    "        \n",
    "        y = x[:, np.newaxis]\n",
    "        \n",
    "        tempx = tempy = size // 2\n",
    "        self.kernel = Kernel(np.exp(-4 * np.log(2) * ((x - tempx) ** 2 + (y - tempy) ** 2) / gauss ** 2), weight)\n",
    "        \n",
    "    def FilterImage(self, image, pace = 1, window = None, axis = 0):\n",
    "        return self.kernel.FilterImage(image, pace, window, axis)\n",
    "    \n",
    "class Bilinear: #Hard Coded numpy array\n",
    "    \n",
    "    def __init__(self, weight):\n",
    "        \n",
    "        self.kernel = Kernel(np.array([[1, 2, 1],\n",
    "                                       [2, 4, 2],\n",
    "                                       [1, 2, 1]]), weight)\n",
    "        \n",
    "    def FilterImage(self, image, pace = 1, window = None, axis = 0):\n",
    "        return self.kernel.FilterImage(image, pace, window, axis)\n",
    "    \n",
    "    \n",
    "sobel = Sobel(1)"
   ]
  },
  {
   "cell_type": "markdown",
   "metadata": {},
   "source": [
    "Filtering the RoI using the Sobel(X+Y) Kernel by iterating over every image and getting a RoI of size (300, 300)"
   ]
  },
  {
   "cell_type": "code",
   "execution_count": 34,
   "metadata": {},
   "outputs": [],
   "source": [
    "for image in images:\n",
    "    win = Window(images[image], 300, 10) #Setting Window of 300 size and 10 pace\n",
    "    roi = window.getImgBounds(images[image]) #Setting (300,300) RoI\n",
    "    \n",
    "    cv2.imwrite(\"Output/RoI/\" + image + \"BeforeFilter.jpg\", roi, [cv2.IMWRITE_PNG_COMPRESSION, 0])\n",
    "    fil = sobel.FilterImage(image = images[image], window = win, axis = 2) #Sobel X+Y Kernel Operations\n",
    "    cv2.imwrite(\"Output/RoI/\" + image + \"AfterFilter.jpg\", fil, [cv2.IMWRITE_PNG_COMPRESSION, 0])"
   ]
  },
  {
   "cell_type": "markdown",
   "metadata": {},
   "source": [
    "<img src=\"Images/flyingdutchman.jpg\">\n",
    "<img src=\"Output/RoI/flyingdutchman.jpgAfterFiler.jpg\">"
   ]
  },
  {
   "cell_type": "markdown",
   "metadata": {},
   "source": [
    "Creating a copy of the initial image 'dababy.jpg' and setting the image to greyscale representation. The image is processed the same as above but with a greyscale filter"
   ]
  },
  {
   "cell_type": "code",
   "execution_count": 36,
   "metadata": {},
   "outputs": [
    {
     "data": {
      "text/plain": [
       "True"
      ]
     },
     "execution_count": 36,
     "metadata": {},
     "output_type": "execute_result"
    }
   ],
   "source": [
    "image = images[\"dababy.jpg\"].copy()\n",
    "image = cv2.cvtColor(image, cv2.COLOR_BGR2GRAY)\n",
    "win = Window(image, 300, 1)\n",
    "roi = win.getImgBounds(image)\n",
    "\n",
    "cv2.imwrite(\"Output/RoI/Dababy_BeforeFilter.jpg\", roi, [cv2.IMWRITE_PNG_COMPRESSION, 0])\n",
    "fil = sobel.FilterImage(image = image, window = win)\n",
    "cv2.imwrite(\"Output/RoI/Dababy_AfterFilter.jpg\", fil, [cv2.IMWRITE_PNG_COMPRESSION, 0])"
   ]
  },
  {
   "cell_type": "markdown",
   "metadata": {},
   "source": [
    "<img src = 'Output/RoI/Dababy_BeforeFilter.jpg'>\n",
    "<img src = 'Output/RoI/Dababy_AfterFilter.jpg'>"
   ]
  },
  {
   "cell_type": "markdown",
   "metadata": {},
   "source": [
    "Iterating through all the images and applying the Sobel Kernel Filter"
   ]
  },
  {
   "cell_type": "code",
   "execution_count": 12,
   "metadata": {},
   "outputs": [],
   "source": [
    "for image in images:\n",
    "    fil = sobel.FilterImage(image = images[image], axis = 2)\n",
    "    cv2.imwrite(\"Output/RoI/Sobel2/\" + image + \"AfterFilter.jpg\", fil, [cv2.IMWRITE_PNG_COMPRESSION, 0])"
   ]
  },
  {
   "cell_type": "markdown",
   "metadata": {},
   "source": [
    "Initializing objects for both the remaining kernels, and setting the filters into a dictionary"
   ]
  },
  {
   "cell_type": "code",
   "execution_count": 13,
   "metadata": {},
   "outputs": [],
   "source": [
    "bilinear = Bilinear(1/10)\n",
    "gaussian = Gaussian(5, 1/6)\n",
    "\n",
    "#The Weights were given as 1/10 and 1/6 because otherwise, the images would have resulted to be too bright \n",
    "\n",
    "filters = {\"Sobel\": sobel,\n",
    "          \"Bilinear\": bilinear,\n",
    "           \"Gaussian\": gaussian}"
   ]
  },
  {
   "cell_type": "markdown",
   "metadata": {},
   "source": [
    "Iterating through every image and applying the filters"
   ]
  },
  {
   "cell_type": "code",
   "execution_count": 38,
   "metadata": {},
   "outputs": [],
   "source": [
    "#The below takes quite a while to compile\n",
    "\n",
    "for image in images:\n",
    "    for fil in filters:\n",
    "        if fil == \"Sobel\":\n",
    "            filt = filters[fil].FilterImage(image=images[image], axis = 0)\n",
    "            cv2.imwrite(\"Output/SobelX/\" + image + \"AfterFilter.jpg\", filt,  [cv2.IMWRITE_PNG_COMPRESSION, 0])\n",
    "            filt = filters[fil].FilterImage(image=images[image], axis = 0)\n",
    "            cv2.imwrite(\"Output/SobelY/\" + image + \"AfterFilter.jpg\", filt,  [cv2.IMWRITE_PNG_COMPRESSION, 0])\n",
    "            \n",
    "        else:\n",
    "            filt = filters[fil].FilterImage(image = images[image])\n",
    "            cv2.imwrite(\"Output/RoI/\" + fil + \"/\" + image + \"AfterFilter.jpg\", filt, [cv2.IMWRITE_PNG_COMPRESSION, 0])"
   ]
  },
  {
   "cell_type": "markdown",
   "metadata": {},
   "source": [
    "# Before and After Gaussian\n",
    "\n",
    "Before\n",
    "<img src = 'Images/dababy.jpg'>\n",
    "\n",
    "After \n",
    "<img src = 'Output/RoI/Gaussian/dababyAfterFilter.jpg'>"
   ]
  },
  {
   "cell_type": "markdown",
   "metadata": {},
   "source": [
    "# Before and After Bilinear \n"
   ]
  },
  {
   "cell_type": "markdown",
   "metadata": {},
   "source": [
    "Before\n",
    "<img src = 'Images/dababy.jpg'>"
   ]
  },
  {
   "cell_type": "markdown",
   "metadata": {},
   "source": [
    "After\n",
    "<img src = 'Output/RoI/Bilinear/dababy.jpg'>"
   ]
  },
  {
   "cell_type": "code",
   "execution_count": null,
   "metadata": {},
   "outputs": [],
   "source": []
  }
 ],
 "metadata": {
  "kernelspec": {
   "display_name": "Python 3",
   "language": "python",
   "name": "python3"
  },
  "language_info": {
   "codemirror_mode": {
    "name": "ipython",
    "version": 3
   },
   "file_extension": ".py",
   "mimetype": "text/x-python",
   "name": "python",
   "nbconvert_exporter": "python",
   "pygments_lexer": "ipython3",
   "version": "3.8.5"
  }
 },
 "nbformat": 4,
 "nbformat_minor": 4
}
