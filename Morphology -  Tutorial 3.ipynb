{
 "cells": [
  {
   "cell_type": "code",
   "execution_count": 2,
   "metadata": {},
   "outputs": [],
   "source": [
    "import cv2\n",
    "import numpy as np\n",
    "import matplotlib.pyplot as plt\n",
    "import os"
   ]
  },
  {
   "cell_type": "code",
   "execution_count": 3,
   "metadata": {},
   "outputs": [],
   "source": [
    "img = cv2.imread('Tut3Images\\Euro_Coins.jpg', 0)"
   ]
  },
  {
   "cell_type": "code",
   "execution_count": 4,
   "metadata": {},
   "outputs": [],
   "source": [
    "thresh = cv2.threshold(img, 127, 255, cv2.THRESH_BINARY)[1]\n",
    "num, lbls = cv2.connectedComponents(thresh)"
   ]
  },
  {
   "cell_type": "code",
   "execution_count": 5,
   "metadata": {},
   "outputs": [],
   "source": [
    "def ConnectedComponents(labels):\n",
    "    \n",
    "    hue = np.uint8(179*labels/np.max(labels))\n",
    "    blank = 255*np.ones_like(hue)\n",
    "    labeled = cv2.merge([hue, blank, blank])\n",
    "    \n",
    "    labeled[hue==0] = 0\n",
    "    \n",
    "    cv2.imshow('Labelled Image', labeled)\n",
    "    cv2.waitKey()\n",
    "    \n",
    "ConnectedComponents(lbls)"
   ]
  },
  {
   "cell_type": "code",
   "execution_count": 6,
   "metadata": {},
   "outputs": [],
   "source": [
    "handwritten = cv2.imread('text.png', 0)\n",
    "kernel = np.ones((5,5), np.uint8)"
   ]
  },
  {
   "cell_type": "code",
   "execution_count": 8,
   "metadata": {},
   "outputs": [
    {
     "data": {
      "text/plain": [
       "True"
      ]
     },
     "execution_count": 8,
     "metadata": {},
     "output_type": "execute_result"
    }
   ],
   "source": [
    "dilation = cv2.dilate(handwritten, kernel, iterations = 1)\n",
    "cv2.imwrite(\"Tut3Images/Output/dilate.png\", dilation, [cv2.IMWRITE_PNG_COMPRESSION, 0])"
   ]
  },
  {
   "cell_type": "code",
   "execution_count": 9,
   "metadata": {},
   "outputs": [
    {
     "data": {
      "text/plain": [
       "True"
      ]
     },
     "execution_count": 9,
     "metadata": {},
     "output_type": "execute_result"
    }
   ],
   "source": [
    "erosion = cv2.erode(handwritten, kernel, iterations = 1)\n",
    "cv2.imwrite(\"Tut3Images/Output/erode.png\", erosion, [cv2.IMWRITE_PNG_COMPRESSION, 0])"
   ]
  },
  {
   "cell_type": "code",
   "execution_count": 11,
   "metadata": {},
   "outputs": [
    {
     "data": {
      "text/plain": [
       "True"
      ]
     },
     "execution_count": 11,
     "metadata": {},
     "output_type": "execute_result"
    }
   ],
   "source": [
    "opening = cv2.morphologyEx(handwritten, cv2.MORPH_OPEN, kernel)\n",
    "cv2.imwrite(\"Tut3Images/Output/opening.png\", opening, [cv2.IMWRITE_PNG_COMPRESSION, 0])"
   ]
  },
  {
   "cell_type": "code",
   "execution_count": 13,
   "metadata": {},
   "outputs": [
    {
     "data": {
      "text/plain": [
       "True"
      ]
     },
     "execution_count": 13,
     "metadata": {},
     "output_type": "execute_result"
    }
   ],
   "source": [
    "closing = cv2.morphologyEx(handwritten, cv2.MORPH_CLOSE, kernel)\n",
    "cv2.imwrite(\"Tut3Images/Output/closing.png\", closing, [cv2.IMWRITE_PNG_COMPRESSION, 0])"
   ]
  },
  {
   "cell_type": "code",
   "execution_count": null,
   "metadata": {},
   "outputs": [],
   "source": []
  }
 ],
 "metadata": {
  "kernelspec": {
   "display_name": "Python 3",
   "language": "python",
   "name": "python3"
  },
  "language_info": {
   "codemirror_mode": {
    "name": "ipython",
    "version": 3
   },
   "file_extension": ".py",
   "mimetype": "text/x-python",
   "name": "python",
   "nbconvert_exporter": "python",
   "pygments_lexer": "ipython3",
   "version": "3.8.5"
  }
 },
 "nbformat": 4,
 "nbformat_minor": 4
}
