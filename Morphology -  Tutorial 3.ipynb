{
 "cells": [
  {
   "cell_type": "code",
   "execution_count": 2,
   "metadata": {},
   "outputs": [],
   "source": [
    "import cv2\n",
    "import numpy as np\n",
    "import matplotlib.pyplot as plt\n",
    "import os"
   ]
  },
  {
   "cell_type": "markdown",
   "metadata": {},
   "source": [
    "# Loading the Image and Converting to Binary\n",
    "\n",
    "The Euro Coins image is loaded as grayscale to facilitate the thresholding procedure. The THRESH_BINARY_INV and THRESH_OTSU thresholding sets the values below 127 to black and above to white, whilst the OTSU Binarization algorithm removes as much noise as possible."
   ]
  },
  {
   "cell_type": "code",
   "execution_count": 4,
   "metadata": {},
   "outputs": [],
   "source": [
    "img = cv2.imread('Tut3Images\\Euro_Coins.jpg', cv2.IMREAD_GRAYSCALE)\n",
    "(thresh, bw) = cv2.threshold(img, 0, 255, cv2.THRESH_BINARY_INV | cv2.THRESH_OTSU)\n",
    "\n",
    "cv2.imwrite(\"Tut3Images/Output/thresh.png\", bw, [cv2.IMWRITE_PNG_COMPRESSION, 0])\n",
    "\n",
    "nums, lbls = cv2.connectedComponents(bw)"
   ]
  },
  {
   "cell_type": "markdown",
   "metadata": {},
   "source": [
    "<img src = \"Tut3Images/Output/thresh.png\">"
   ]
  },
  {
   "cell_type": "markdown",
   "metadata": {},
   "source": [
    "## Connected Components"
   ]
  },
  {
   "cell_type": "code",
   "execution_count": 19,
   "metadata": {},
   "outputs": [],
   "source": [
    "def ConnectedComponents(labels):\n",
    "    \n",
    "    hue = np.uint8(179*labels/np.max(labels))\n",
    "    blank = 255*np.ones_like(hue)\n",
    "    labeled = cv2.merge([hue, blank, blank])\n",
    "    \n",
    "    labeled = cv2.cvtColor(labeled, cv2.COLOR_HSV2BGR)\n",
    "    labeled[hue==0] = 0\n",
    "    \n",
    "    cv2.imshow('Labelled Image', labeled)\n",
    "    cv2.imwrite(\"Tut3Images/Output/connected.png\", labeled, [cv2.IMWRITE_PNG_COMPRESSION, 0])\n",
    "    cv2.waitKey()\n",
    "    \n",
    "ConnectedComponents(lbls)"
   ]
  },
  {
   "cell_type": "markdown",
   "metadata": {},
   "source": [
    "<img src = \"Tut3Images/Output/connected.png\">"
   ]
  },
  {
   "cell_type": "markdown",
   "metadata": {},
   "source": [
    "# Setting up the Kernel and Loading the Text image\n",
    "\n",
    "Setting up a 5x5 Kernel in order to be able to use the morphological opencv functions.\n",
    "The functions are tested on the handwritten text image.\n",
    "\n",
    "The handwritten text image is also thresholded in order for testing the morphological techniques "
   ]
  },
  {
   "cell_type": "code",
   "execution_count": 4,
   "metadata": {},
   "outputs": [],
   "source": [
    "handwritten = cv2.imread('Tut3Images/text.png', 0)\n",
    "kernel = np.ones((2,2), np.uint8)\n",
    "\n",
    "(thresh2, bw2) = cv2.threshold(handwritten, 0, 255, cv2.THRESH_BINARY_INV | cv2.THRESH_OTSU)"
   ]
  },
  {
   "cell_type": "markdown",
   "metadata": {},
   "source": [
    "## Dilation\n",
    "\n",
    "The Un-Thresheld image unfortunately detects the noise, and dilates that, providing a rather unsatisfying output.\n",
    "It can be observed that the text is now thicker than the initial image.\n",
    "The 8x8 Kernel was tested on the Thresheld image in order to view the output better."
   ]
  },
  {
   "cell_type": "code",
   "execution_count": 5,
   "metadata": {},
   "outputs": [
    {
     "data": {
      "text/plain": [
       "True"
      ]
     },
     "execution_count": 5,
     "metadata": {},
     "output_type": "execute_result"
    }
   ],
   "source": [
    "dilation = cv2.dilate(bw2, kernel, iterations = 1)\n",
    "cv2.imwrite(\"Tut3Images/Output/dilate3.png\", dilation, [cv2.IMWRITE_PNG_COMPRESSION, 0])"
   ]
  },
  {
   "cell_type": "markdown",
   "metadata": {},
   "source": [
    "<img src = \"Tut3Images/Output/dilate.png\">\n",
    "Dilation without Thresholding"
   ]
  },
  {
   "cell_type": "markdown",
   "metadata": {},
   "source": [
    "<img src = 'Tut3Images/Output/dilate2.png'>\n",
    "Dilation with Thresholding"
   ]
  },
  {
   "cell_type": "markdown",
   "metadata": {},
   "source": [
    "<img src = 'Tut3Images/Output/dilate3.png'>\n",
    "Dilation with 8x8 Kernel"
   ]
  },
  {
   "cell_type": "markdown",
   "metadata": {},
   "source": [
    "## Erosion\n",
    "\n",
    "In contrary to the Dilation morphology technique, the output yealds better results with an un-thresheld image. Also different from the dilation technique, the thickness of the text is clearer with a smaller kernel"
   ]
  },
  {
   "cell_type": "code",
   "execution_count": 40,
   "metadata": {},
   "outputs": [
    {
     "data": {
      "text/plain": [
       "True"
      ]
     },
     "execution_count": 40,
     "metadata": {},
     "output_type": "execute_result"
    }
   ],
   "source": [
    "erosion = cv2.erode(handwritten, kernel, iterations = 1)\n",
    "cv2.imwrite(\"Tut3Images/Output/erode3.png\", erosion, [cv2.IMWRITE_PNG_COMPRESSION, 0])"
   ]
  },
  {
   "cell_type": "markdown",
   "metadata": {},
   "source": [
    "<img src = \"Tut3Images/Output/erode.png\">\n",
    "Erosion without Thresholding"
   ]
  },
  {
   "cell_type": "markdown",
   "metadata": {},
   "source": [
    "<img src = \"Tut3Images/Output/erode2.png\">\n",
    "Erosion with Thresholding"
   ]
  },
  {
   "cell_type": "markdown",
   "metadata": {},
   "source": [
    "<img src = 'Tut3Images/Output/erode3.png'>\n",
    "Erosion with a 2x2 Kernel"
   ]
  },
  {
   "cell_type": "markdown",
   "metadata": {},
   "source": [
    "## Opening\n",
    "\n",
    "With a normal 5x5 Kernel, the normal grayscale image yealds better result. The thresheld image is unlegible. But with a smaller Kernel, the thresheld image has legible output, but the grayscale image still does hold a better result for the opening morphological technique."
   ]
  },
  {
   "cell_type": "code",
   "execution_count": 43,
   "metadata": {
    "scrolled": true
   },
   "outputs": [
    {
     "data": {
      "text/plain": [
       "True"
      ]
     },
     "execution_count": 43,
     "metadata": {},
     "output_type": "execute_result"
    }
   ],
   "source": [
    "opening = cv2.morphologyEx(handwritten, cv2.MORPH_OPEN, kernel)\n",
    "cv2.imwrite(\"Tut3Images/Output/opening4.png\", opening, [cv2.IMWRITE_PNG_COMPRESSION, 0])"
   ]
  },
  {
   "cell_type": "markdown",
   "metadata": {},
   "source": [
    "<img src = \"Tut3Images/Output/opening.png\">\n",
    "Opening without Thresholding"
   ]
  },
  {
   "cell_type": "markdown",
   "metadata": {},
   "source": [
    "<img src = \"Tut3Images/Output/opening2.png\">\n",
    "Opening with Thresholding"
   ]
  },
  {
   "cell_type": "markdown",
   "metadata": {},
   "source": [
    "<img src = \"Tut3Images/Output/opening3.png\">\n",
    "Opening with 2x2 Kernel Thresheld"
   ]
  },
  {
   "cell_type": "markdown",
   "metadata": {},
   "source": [
    "<img src = \"Tut3Images/Output/opening4.png\">\n",
    "Opening with 2x2 Kernel "
   ]
  },
  {
   "cell_type": "markdown",
   "metadata": {},
   "source": [
    "## Closing\n",
    "\n",
    "It can be observed that a Thresheld image yealds better results rather than a normal grayscale image, but a smaller kernel, as shown in the 3rd output image, reduces the effect of the closing morphological technique"
   ]
  },
  {
   "cell_type": "code",
   "execution_count": 42,
   "metadata": {},
   "outputs": [
    {
     "data": {
      "text/plain": [
       "True"
      ]
     },
     "execution_count": 42,
     "metadata": {},
     "output_type": "execute_result"
    }
   ],
   "source": [
    "closing = cv2.morphologyEx(bw2, cv2.MORPH_CLOSE, kernel)\n",
    "cv2.imwrite(\"Tut3Images/Output/closing3.png\", closing, [cv2.IMWRITE_PNG_COMPRESSION, 0])"
   ]
  },
  {
   "cell_type": "markdown",
   "metadata": {},
   "source": [
    "<img src = \"Tut3Images/Output/closing.png\">\n",
    "Closing without Thresholding"
   ]
  },
  {
   "cell_type": "markdown",
   "metadata": {},
   "source": [
    "<img src = 'Tut3Images/Output/closing2.png'>\n",
    "Closing with Thresholding"
   ]
  },
  {
   "cell_type": "markdown",
   "metadata": {},
   "source": [
    "<img src = \"Tut3Images/Output/closing3.png\">\n",
    "Closing with a 2x2 Kernel"
   ]
  },
  {
   "cell_type": "code",
   "execution_count": 5,
   "metadata": {},
   "outputs": [
    {
     "data": {
      "text/plain": [
       "True"
      ]
     },
     "execution_count": 5,
     "metadata": {},
     "output_type": "execute_result"
    }
   ],
   "source": [
    "edges = cv2.Canny(img, 30, 200)\n",
    "cv2.imwrite(\"Tut3Images/Output/edges.png\", edges, [cv2.IMWRITE_PNG_COMPRESSION, 0])"
   ]
  },
  {
   "cell_type": "markdown",
   "metadata": {},
   "source": [
    "## Segmentation"
   ]
  },
  {
   "cell_type": "code",
   "execution_count": 10,
   "metadata": {},
   "outputs": [
    {
     "data": {
      "text/plain": [
       "True"
      ]
     },
     "execution_count": 10,
     "metadata": {},
     "output_type": "execute_result"
    }
   ],
   "source": [
    "#Finding the Contours \n",
    "contours, hierarchy = cv2.findContours(dilation.copy(), cv2.RETR_EXTERNAL, cv2.CHAIN_APPROX_SIMPLE)\n",
    "\n",
    "#Sort Contours\n",
    "sortedcontours = sorted(contours, key=lambda ctr: cv2.boundingRect(ctr)[0])\n",
    "\n",
    "for i, ctr in enumerate(sortedcontours):\n",
    "    #Bounding Box\n",
    "    x,y,w,h = cv2.boundingRect(ctr)\n",
    "    \n",
    "    roi = handwritten[y:y+h, x:x+w]\n",
    "    \n",
    "    cv2.rectangle(handwritten, (x,y), (x+w, y+h), (90,0,255), 2)\n",
    "    \n",
    "cv2.imwrite(\"Tut3Images/Output/segmented.png\", handwritten, [cv2.IMWRITE_PNG_COMPRESSION, 0])"
   ]
  },
  {
   "cell_type": "markdown",
   "metadata": {},
   "source": [
    "<img src = \"Tut3Images/Output/segmented.png\">"
   ]
  },
  {
   "cell_type": "code",
   "execution_count": null,
   "metadata": {},
   "outputs": [],
   "source": []
  }
 ],
 "metadata": {
  "kernelspec": {
   "display_name": "Python 3",
   "language": "python",
   "name": "python3"
  },
  "language_info": {
   "codemirror_mode": {
    "name": "ipython",
    "version": 3
   },
   "file_extension": ".py",
   "mimetype": "text/x-python",
   "name": "python",
   "nbconvert_exporter": "python",
   "pygments_lexer": "ipython3",
   "version": "3.8.8"
  }
 },
 "nbformat": 4,
 "nbformat_minor": 4
}
